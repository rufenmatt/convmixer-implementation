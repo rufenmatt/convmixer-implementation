{
 "cells": [
  {
   "cell_type": "code",
   "execution_count": 1,
   "id": "ea833521",
   "metadata": {},
   "outputs": [
    {
     "name": "stdout",
     "output_type": "stream",
     "text": [
      "Requirement already satisfied: torch==1.9.0 in /Users/mattiaruefenacht/opt/anaconda3/lib/python3.8/site-packages (1.9.0)\r\n",
      "Requirement already satisfied: typing-extensions in /Users/mattiaruefenacht/opt/anaconda3/lib/python3.8/site-packages (from torch==1.9.0) (3.7.4.3)\r\n"
     ]
    }
   ],
   "source": [
    "!pip install torch==1.9.0"
   ]
  },
  {
   "cell_type": "code",
   "execution_count": 2,
   "id": "6a32d574",
   "metadata": {},
   "outputs": [],
   "source": [
    "import torch\n",
    "import torch.nn as nn\n",
    "import torch.nn.functional as F\n",
    "\n",
    "class ConvMixer(nn.Module):\n",
    "    def __init__(self,no_of_op_channels , depth , kernal , patch_size , output ):\n",
    "        super().__init__()\n",
    "        self.o = no_of_op_channels\n",
    "        self.d = depth\n",
    "        self.k = kernal\n",
    "        self.p = patch_size\n",
    "        self.n = output\n",
    "        self.bn = nn.BatchNorm2d(self.o)\n",
    "        self.cnn1 = nn.Conv2d(3 , self.o , (self.p , self.p) , stride=self.p)\n",
    "        self.bn1 = nn.BatchNorm2d(self.o)\n",
    "        self.cnn2 = nn.Conv2d(self.o , self.o , (self.k , self.k) , groups=self.o , padding=\"same\")\n",
    "        self.bn2 = nn.BatchNorm2d(self.o)\n",
    "        self.cnn3 = nn.Conv2d(self.o , self.o , (1,1))\n",
    "        self.pool = nn.AdaptiveAvgPool2d((1,1))\n",
    "        self.fc = nn.Linear(self.o , self.n)\n",
    "\n",
    "    def forward(self , x):\n",
    "        x = self.bn(F.gelu(self.cnn1(x)))\n",
    "        for i in range(self.d):\n",
    "          x = self.bn1(F.gelu(self.cnn2(x)))+ x #residual step and depthwise convolution\n",
    "          x = self.bn2(F.gelu(self.cnn3(x))) #pointwise convolution\n",
    "        x = self.pool(x)\n",
    "        x = x.view(x.shape[0],-1)\n",
    "        x = self.fc(x)\n",
    "        return x"
   ]
  }
 ],
 "metadata": {
  "kernelspec": {
   "display_name": "Python 3",
   "language": "python",
   "name": "python3"
  },
  "language_info": {
   "codemirror_mode": {
    "name": "ipython",
    "version": 3
   },
   "file_extension": ".py",
   "mimetype": "text/x-python",
   "name": "python",
   "nbconvert_exporter": "python",
   "pygments_lexer": "ipython3",
   "version": "3.8.8"
  }
 },
 "nbformat": 4,
 "nbformat_minor": 5
}
